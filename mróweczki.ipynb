{
  "nbformat": 4,
  "nbformat_minor": 0,
  "metadata": {
    "colab": {
      "name": "mróweczki",
      "provenance": [],
      "collapsed_sections": [],
      "include_colab_link": true
    },
    "kernelspec": {
      "name": "python3",
      "display_name": "Python 3"
    }
  },
  "cells": [
    {
      "cell_type": "markdown",
      "metadata": {
        "id": "view-in-github",
        "colab_type": "text"
      },
      "source": [
        "<a href=\"https://colab.research.google.com/github/Warmuz/AntSystem/blob/main/mr%C3%B3weczki.ipynb\" target=\"_parent\"><img src=\"https://colab.research.google.com/assets/colab-badge.svg\" alt=\"Open In Colab\"/></a>"
      ]
    },
    {
      "cell_type": "code",
      "metadata": {
        "id": "nzQBzVuAdSW5",
        "colab": {
          "base_uri": "https://localhost:8080/",
          "height": 51
        },
        "outputId": "813fb288-36c0-446d-912a-43d14705be93"
      },
      "source": [
        "#Task 1\n",
        "import numpy as np\n",
        "#number of decision choices\n",
        "Rm1=0\n",
        "Lm1=0\n",
        "Rm2=0\n",
        "Lm2=0\n",
        "k=20      #parameter\n",
        "d=2       #parameter\n",
        "ants=50\n",
        "for z in range(0,2):\n",
        "  for x in range(0,ants):\n",
        "    r1=np.random.uniform(0,1)         #uniform distribution in the interval [0, 1]\n",
        "    Pr1=((Rm1+k)**d)/((Rm1+k)**d+(Lm1+k)**d)  #The probability with which the (m + 1)-th ant selects the right branch\n",
        "    if r1<=Pr1:\n",
        "      Rm1+=1\n",
        "    else:\n",
        "      Lm1+=1\n",
        "    r2=np.random.uniform(0,1)\n",
        "    Pr2=((Rm1+k)**d)/((Rm1+k)**d+(Lm1+k)**d)\n",
        "    if r2<=Pr2:\n",
        "      Rm2+=1\n",
        "    else:\n",
        "      Lm2+=1\n",
        "    \n",
        "print ('Right branch=',Rm1,'Left branch=',Lm1)\n",
        "print ('Right branch=',Rm2,'Left branch=',Lm2)"
      ],
      "execution_count": null,
      "outputs": [
        {
          "output_type": "stream",
          "text": [
            "Right branch= 46 Left branch= 54\n",
            "Right branch= 50 Left branch= 50\n"
          ],
          "name": "stdout"
        }
      ]
    },
    {
      "cell_type": "code",
      "metadata": {
        "id": "2LNS4thpdCOG",
        "colab": {
          "base_uri": "https://localhost:8080/",
          "height": 85
        },
        "outputId": "7e63c63d-2442-458f-ebd0-3351f7abded0"
      },
      "source": [
        "#Task 2\n",
        "\n",
        "#length of path\n",
        "Rl1=7\n",
        "Ll1=3\n",
        "\n",
        "if Rl1<Ll1:\n",
        "  print('1 Right path is shorter')\n",
        "else:\n",
        "  print('1 Left path is shorter')\n",
        "Rl2=3\n",
        "Ll2=7\n",
        "\n",
        "if Rl2<Ll2:\n",
        "  print('2 Right path is shorter')\n",
        "else:\n",
        "  print('2 Left path is shorter')\n",
        "\n",
        "\n",
        "Rm1=0\n",
        "Lm1=0\n",
        "Rm2=0\n",
        "Lm2=0\n",
        "#amount pheromone on paths\n",
        "Rf1=0\n",
        "Lf1=0\n",
        "Rf2=0\n",
        "Lf2=0 \n",
        "\n",
        "#amont pheromone, if the branch is longer ants put less amount of pheromon\n",
        "Sum1=Rl1+Ll1\n",
        "r1=1-Rl1/Sum1\n",
        "l1=1-Ll1/Sum1\n",
        "\n",
        "Sum2=Rl2+Ll2\n",
        "r2=1-Rl2/Sum2\n",
        "l2=1-Ll2/Sum2\n",
        "\n",
        "for z in range(0,2):\n",
        "  for x in range(0,ants):\n",
        "    ra=np.random.uniform(0,1)             #uniform distribution in the interval [0, 1]\n",
        "    Pr1=((Rf1+k)**d)/((Rf1+k)**d+(Lf1+k)**d)    #The probability with which the (m + 1)-th ant selects the right branch\n",
        "    if ra<Pr1:    \n",
        "      Rm1=Rm1+1\n",
        "      Rf1=Rf1+r1\n",
        "    else:\n",
        "      Lm1=Lm1+1\n",
        "      Lf1=Lf1+l1\n",
        "\n",
        "    rb=np.random.uniform(0,1)\n",
        "    Pr2=((Rf2+k)**d)/((Rf2+k)**d+(Lf2+k)**d)\n",
        "    if rb<Pr2:    \n",
        "      Rm2=Rm2+1\n",
        "      Rf2=Rf2+r2\n",
        "    else:\n",
        "      Lm2=Lm2+1\n",
        "      Lf2=Lf2+l2\n",
        "\n",
        "print('1 Right path',Rm1,'1 Left path',Lm1)\n",
        "print('2 Right path',Rm2,'2 Left path',Lm2)\n"
      ],
      "execution_count": null,
      "outputs": [
        {
          "output_type": "stream",
          "text": [
            "1 Left path is shorter\n",
            "2 Right path is shorter\n",
            "1 Right path 30 1 Left path 70\n",
            "2 Right path 69 2 Left path 31\n"
          ],
          "name": "stdout"
        }
      ]
    },
    {
      "cell_type": "code",
      "metadata": {
        "id": "5ILAjbrXCTV1",
        "colab": {
          "base_uri": "https://localhost:8080/",
          "height": 674
        },
        "outputId": "0c3b1356-bb84-45ca-a4e9-c80128e66e38"
      },
      "source": [
        "#Task 3\n",
        "import matplotlib.pyplot as plt\n",
        "import numpy as np\n",
        "import math\n",
        "import pandas\n",
        "\n",
        "# city 1\n",
        "x = [0, 3, 6, 7, 15, 12, 14, 9, 7, 0]\n",
        "y = [1, 4, 5, 3, 0, 4, 10, 6, 9, 10]\n",
        "\n",
        "n=len(x)\n",
        "ants=n\n",
        "\n",
        "distance=np.zeros([n,n], dtype=float)\n",
        "ni=np.zeros([n,n], dtype=float)\n",
        "a=np.zeros([n,n], dtype=float)\n",
        "T=np.zeros([n,n], dtype=int)\n",
        "L=np.zeros(ants, dtype=float)\n",
        "\n",
        "alfa=1\n",
        "beta=5\n",
        "Tmax=200\n",
        "p=0.5\n",
        "\n",
        "for i in range (0,n):    \n",
        "  for j in range (0,n):\n",
        "    distance[i][j]=math.sqrt((x[j]-x[i])**2+(y[j]-y[i])**2)\n",
        "    ni[i][j]=1/distance[i][j]\n",
        "\n",
        "t0 = 1/np.amax(distance)\n",
        "tau = np.full([n,n], t0)\n",
        "\n",
        "\n",
        "plt.title('Cities')\n",
        "plt.xlabel('x')\n",
        "plt.ylabel('y')\n",
        "plt.plot(x,y,'bo')\n",
        "pandas.DataFrame(distance)\n"
      ],
      "execution_count": null,
      "outputs": [
        {
          "output_type": "stream",
          "text": [
            "/usr/local/lib/python3.6/dist-packages/ipykernel_launcher.py:27: RuntimeWarning: divide by zero encountered in double_scalars\n"
          ],
          "name": "stderr"
        },
        {
          "output_type": "execute_result",
          "data": {
            "text/html": [
              "<div>\n",
              "<style scoped>\n",
              "    .dataframe tbody tr th:only-of-type {\n",
              "        vertical-align: middle;\n",
              "    }\n",
              "\n",
              "    .dataframe tbody tr th {\n",
              "        vertical-align: top;\n",
              "    }\n",
              "\n",
              "    .dataframe thead th {\n",
              "        text-align: right;\n",
              "    }\n",
              "</style>\n",
              "<table border=\"1\" class=\"dataframe\">\n",
              "  <thead>\n",
              "    <tr style=\"text-align: right;\">\n",
              "      <th></th>\n",
              "      <th>0</th>\n",
              "      <th>1</th>\n",
              "      <th>2</th>\n",
              "      <th>3</th>\n",
              "      <th>4</th>\n",
              "      <th>5</th>\n",
              "      <th>6</th>\n",
              "      <th>7</th>\n",
              "      <th>8</th>\n",
              "      <th>9</th>\n",
              "    </tr>\n",
              "  </thead>\n",
              "  <tbody>\n",
              "    <tr>\n",
              "      <th>0</th>\n",
              "      <td>0.000000</td>\n",
              "      <td>4.242641</td>\n",
              "      <td>7.211103</td>\n",
              "      <td>7.280110</td>\n",
              "      <td>15.033296</td>\n",
              "      <td>12.369317</td>\n",
              "      <td>16.643317</td>\n",
              "      <td>10.295630</td>\n",
              "      <td>10.630146</td>\n",
              "      <td>9.000000</td>\n",
              "    </tr>\n",
              "    <tr>\n",
              "      <th>1</th>\n",
              "      <td>4.242641</td>\n",
              "      <td>0.000000</td>\n",
              "      <td>3.162278</td>\n",
              "      <td>4.123106</td>\n",
              "      <td>12.649111</td>\n",
              "      <td>9.000000</td>\n",
              "      <td>12.529964</td>\n",
              "      <td>6.324555</td>\n",
              "      <td>6.403124</td>\n",
              "      <td>6.708204</td>\n",
              "    </tr>\n",
              "    <tr>\n",
              "      <th>2</th>\n",
              "      <td>7.211103</td>\n",
              "      <td>3.162278</td>\n",
              "      <td>0.000000</td>\n",
              "      <td>2.236068</td>\n",
              "      <td>10.295630</td>\n",
              "      <td>6.082763</td>\n",
              "      <td>9.433981</td>\n",
              "      <td>3.162278</td>\n",
              "      <td>4.123106</td>\n",
              "      <td>7.810250</td>\n",
              "    </tr>\n",
              "    <tr>\n",
              "      <th>3</th>\n",
              "      <td>7.280110</td>\n",
              "      <td>4.123106</td>\n",
              "      <td>2.236068</td>\n",
              "      <td>0.000000</td>\n",
              "      <td>8.544004</td>\n",
              "      <td>5.099020</td>\n",
              "      <td>9.899495</td>\n",
              "      <td>3.605551</td>\n",
              "      <td>6.000000</td>\n",
              "      <td>9.899495</td>\n",
              "    </tr>\n",
              "    <tr>\n",
              "      <th>4</th>\n",
              "      <td>15.033296</td>\n",
              "      <td>12.649111</td>\n",
              "      <td>10.295630</td>\n",
              "      <td>8.544004</td>\n",
              "      <td>0.000000</td>\n",
              "      <td>5.000000</td>\n",
              "      <td>10.049876</td>\n",
              "      <td>8.485281</td>\n",
              "      <td>12.041595</td>\n",
              "      <td>18.027756</td>\n",
              "    </tr>\n",
              "    <tr>\n",
              "      <th>5</th>\n",
              "      <td>12.369317</td>\n",
              "      <td>9.000000</td>\n",
              "      <td>6.082763</td>\n",
              "      <td>5.099020</td>\n",
              "      <td>5.000000</td>\n",
              "      <td>0.000000</td>\n",
              "      <td>6.324555</td>\n",
              "      <td>3.605551</td>\n",
              "      <td>7.071068</td>\n",
              "      <td>13.416408</td>\n",
              "    </tr>\n",
              "    <tr>\n",
              "      <th>6</th>\n",
              "      <td>16.643317</td>\n",
              "      <td>12.529964</td>\n",
              "      <td>9.433981</td>\n",
              "      <td>9.899495</td>\n",
              "      <td>10.049876</td>\n",
              "      <td>6.324555</td>\n",
              "      <td>0.000000</td>\n",
              "      <td>6.403124</td>\n",
              "      <td>7.071068</td>\n",
              "      <td>14.000000</td>\n",
              "    </tr>\n",
              "    <tr>\n",
              "      <th>7</th>\n",
              "      <td>10.295630</td>\n",
              "      <td>6.324555</td>\n",
              "      <td>3.162278</td>\n",
              "      <td>3.605551</td>\n",
              "      <td>8.485281</td>\n",
              "      <td>3.605551</td>\n",
              "      <td>6.403124</td>\n",
              "      <td>0.000000</td>\n",
              "      <td>3.605551</td>\n",
              "      <td>9.848858</td>\n",
              "    </tr>\n",
              "    <tr>\n",
              "      <th>8</th>\n",
              "      <td>10.630146</td>\n",
              "      <td>6.403124</td>\n",
              "      <td>4.123106</td>\n",
              "      <td>6.000000</td>\n",
              "      <td>12.041595</td>\n",
              "      <td>7.071068</td>\n",
              "      <td>7.071068</td>\n",
              "      <td>3.605551</td>\n",
              "      <td>0.000000</td>\n",
              "      <td>7.071068</td>\n",
              "    </tr>\n",
              "    <tr>\n",
              "      <th>9</th>\n",
              "      <td>9.000000</td>\n",
              "      <td>6.708204</td>\n",
              "      <td>7.810250</td>\n",
              "      <td>9.899495</td>\n",
              "      <td>18.027756</td>\n",
              "      <td>13.416408</td>\n",
              "      <td>14.000000</td>\n",
              "      <td>9.848858</td>\n",
              "      <td>7.071068</td>\n",
              "      <td>0.000000</td>\n",
              "    </tr>\n",
              "  </tbody>\n",
              "</table>\n",
              "</div>"
            ],
            "text/plain": [
              "           0          1          2  ...          7          8          9\n",
              "0   0.000000   4.242641   7.211103  ...  10.295630  10.630146   9.000000\n",
              "1   4.242641   0.000000   3.162278  ...   6.324555   6.403124   6.708204\n",
              "2   7.211103   3.162278   0.000000  ...   3.162278   4.123106   7.810250\n",
              "3   7.280110   4.123106   2.236068  ...   3.605551   6.000000   9.899495\n",
              "4  15.033296  12.649111  10.295630  ...   8.485281  12.041595  18.027756\n",
              "5  12.369317   9.000000   6.082763  ...   3.605551   7.071068  13.416408\n",
              "6  16.643317  12.529964   9.433981  ...   6.403124   7.071068  14.000000\n",
              "7  10.295630   6.324555   3.162278  ...   0.000000   3.605551   9.848858\n",
              "8  10.630146   6.403124   4.123106  ...   3.605551   0.000000   7.071068\n",
              "9   9.000000   6.708204   7.810250  ...   9.848858   7.071068   0.000000\n",
              "\n",
              "[10 rows x 10 columns]"
            ]
          },
          "metadata": {
            "tags": []
          },
          "execution_count": 1
        },
        {
          "output_type": "display_data",
          "data": {
            "image/png": "[encoded data removed]",
            "text/plain": [
              "<Figure size 432x288 with 1 Axes>"
            ]
          },
          "metadata": {
            "tags": []
          }
        }
      ]
    },
    {
      "cell_type": "code",
      "metadata": {
        "id": "sHRJ7mwTMvok",
        "colab": {
          "base_uri": "https://localhost:8080/",
          "height": 51
        },
        "outputId": "ff894920-3963-47e0-b50d-da19899292b5"
      },
      "source": [
        "import copy\n",
        "for przejscie in range(100):\n",
        "  roads= [] #tablica drog\n",
        "  road_lens = [] #tablica dystansow\n",
        "  Delta_t = np.zeros((n,n)) #zmiana feromonu\n",
        "  for mrowka in range(n): #kazda mrowka zaczyna podroz\n",
        "    road_l = 0 #poczatkowa dlugosc drogi\n",
        "    road = [] #miasta w ktorych mrowka byla\n",
        "    delta_t = np.zeros((n,n)) #inicjacja zmiany feromonu dla danej mrowki\n",
        "    curr_city = 0 #wszystkie mrowki \n",
        "    for mrowka_decyzja in range(n-1): #wybor mrowki dla kazdego miasta\n",
        "      #liczenie a (decyzje), kazdy wiersz osobno\n",
        "      denominator = sum([0 if (j in road or curr_city==j) else (tau[curr_city][j]**alfa)/(distance[curr_city][j]**beta) for j in range(n)])\n",
        "      d_res = 1/np.array(distance[curr_city])**beta #ni juz do bety\n",
        "      d_res[curr_city] = 0\n",
        "      decisions = np.array(tau[curr_city])\n",
        "      #print(decisions)\n",
        "      decisions = decisions**alfa\n",
        "      #print(decisions)\n",
        "      decisions = [0 if (j in road or curr_city == j) else (decisions[j]*d_res[j])/denominator for j in range(n)]\n",
        "      #print(decisions)\n",
        "\n",
        "      #liczenie prawdopodobienstw\n",
        "      prob = []\n",
        "      for j in range(n):\n",
        "        prob.append(decisions[j]/sum(decisions))\n",
        "      prob = np.array(prob)\n",
        "      #wybor miasta do ktorego mrowka sie porusza\n",
        "      prob_pos = 0\n",
        "      zmienna_wyboru = np.random.uniform(0,1)\n",
        "      for d in range(n):\n",
        "        prob_pos += prob[d]\n",
        "        if zmienna_wyboru < prob_pos:\n",
        "          wybor = d\n",
        "          break\n",
        "      road.append(curr_city)\n",
        "      road_l += distance[curr_city][wybor]\n",
        "      delta_t[curr_city][wybor] = 1\n",
        "      delta_t[wybor][curr_city] = 1\n",
        "      curr_city = wybor\n",
        "    road.append(curr_city) #musimy dodac ostatnie miasto bo for idzie do przedostatniego\n",
        "    road_l += distance[curr_city][wybor]\n",
        "    road_l += distance[wybor][curr_city]\n",
        "    road.append(0) #wracamy do poczatkowego miasta\n",
        "    road_l += distance[curr_city][0] \n",
        "    road_l += distance[0][curr_city]\n",
        "    delta_t *= 1/road_l #feromon to 1/dlugoscDrogi tam gdzie mrowka sie porusza\n",
        "    Delta_t += delta_t\n",
        "    roads.append(copy.deepcopy(road)) #dodajemy droge do tablicy drog w danej iteracji\n",
        "    road_lens.append(road_l) #dlugosc tez\n",
        "  tau = (1-0.5)*tau + Delta_t #update tau razem z ewaporacja\n"
      ],
      "execution_count": null,
      "outputs": [
        {
          "output_type": "stream",
          "text": [
            "/usr/local/lib/python3.6/dist-packages/ipykernel_launcher.py:14: RuntimeWarning: divide by zero encountered in true_divide\n",
            "  \n"
          ],
          "name": "stderr"
        }
      ]
    },
    {
      "cell_type": "code",
      "metadata": {
        "id": "898CrZQEOUdB",
        "colab": {
          "base_uri": "https://localhost:8080/",
          "height": 187
        },
        "outputId": "fc61a6ee-a75f-4b5a-c3c7-1e4e1ed88d2e"
      },
      "source": [
        "for i in range(n):\n",
        "  print(roads[i],road_lens[i])"
      ],
      "execution_count": null,
      "outputs": [
        {
          "output_type": "stream",
          "text": [
            "[0, 1, 2, 3, 7, 5, 4, 6, 8, 9, 0] 64.04410012056726\n",
            "[0, 1, 2, 3, 7, 5, 4, 6, 8, 9, 0] 64.04410012056726\n",
            "[0, 1, 2, 3, 7, 5, 4, 6, 8, 9, 0] 64.04410012056726\n",
            "[0, 1, 2, 3, 7, 5, 4, 6, 8, 9, 0] 64.04410012056726\n",
            "[0, 1, 2, 3, 7, 5, 4, 6, 8, 9, 0] 64.04410012056726\n",
            "[0, 1, 2, 3, 7, 5, 4, 6, 8, 9, 0] 64.04410012056726\n",
            "[0, 1, 2, 3, 7, 5, 4, 6, 8, 9, 0] 64.04410012056726\n",
            "[0, 1, 2, 3, 7, 5, 4, 6, 8, 9, 0] 64.04410012056726\n",
            "[0, 1, 2, 3, 7, 5, 4, 6, 8, 9, 0] 64.04410012056726\n",
            "[0, 1, 2, 3, 7, 5, 4, 6, 8, 9, 0] 64.04410012056726\n"
          ],
          "name": "stdout"
        }
      ]
    },
    {
      "cell_type": "code",
      "metadata": {
        "id": "PJqq_ULnOtxN"
      },
      "source": [
        "def connectpoints(x,y,p1,p2,colour = 'ko-'): \n",
        "  x1, x2 = x[p1], x[p2]\n",
        "  y1, y2 = y[p1], y[p2] \n",
        "  plt.plot([x1,x2],[y1,y2],colour)\n"
      ],
      "execution_count": null,
      "outputs": []
    },
    {
      "cell_type": "code",
      "metadata": {
        "id": "2zUGEOlMRUdv",
        "colab": {
          "base_uri": "https://localhost:8080/",
          "height": 265
        },
        "outputId": "ecf5ae05-7d7d-4337-eac6-48d0bc6e253b"
      },
      "source": [
        "\n",
        "best_road =  min(road_lens)\n",
        "best_road = roads[max([i if best_road == road_lens[i] else 0 for i in range(n)])]\n",
        "for i in range(len(best_road)-1):\n",
        "    connectpoints(x,y,best_road[i],best_road[i+1])\n",
        "plt.show()\n",
        "    "
      ],
      "execution_count": null,
      "outputs": [
        {
          "output_type": "display_data",
          "data": {
            "image/png": "[encoded data removed]",
            "text/plain": [
              "<Figure size 432x288 with 1 Axes>"
            ]
          },
          "metadata": {
            "tags": []
          }
        }
      ]
    },
    {
      "cell_type": "code",
      "metadata": {
        "id": "MCQd0bU8XgPQ",
        "colab": {
          "base_uri": "https://localhost:8080/",
          "height": 312
        },
        "outputId": "aacae11d-b8b5-431e-bba4-e5607851c3f7"
      },
      "source": [
        "plt.title('Cities')\n",
        "plt.xlabel('x')\n",
        "plt.ylabel('y')\n",
        "plt.plot(x,y,'bo')"
      ],
      "execution_count": null,
      "outputs": [
        {
          "output_type": "execute_result",
          "data": {
            "text/plain": [
              "[<matplotlib.lines.Line2D at 0x7f9212adc908>]"
            ]
          },
          "metadata": {
            "tags": []
          },
          "execution_count": 46
        },
        {
          "output_type": "display_data",
          "data": {
            "image/png": "[encoded data removed]",
            "text/plain": [
              "<Figure size 432x288 with 1 Axes>"
            ]
          },
          "metadata": {
            "tags": []
          }
        }
      ]
    },
    {
      "cell_type": "markdown",
      "metadata": {
        "id": "jh-Tnqt4S27o"
      },
      "source": [
        "For the testing purposes we checked different amount of iterations for the ants. We found out that for about 100 iteration we reliably achieve a closest route possible. For lower amounts there were some roads that were not yet optimized."
      ]
    }
  ]
}